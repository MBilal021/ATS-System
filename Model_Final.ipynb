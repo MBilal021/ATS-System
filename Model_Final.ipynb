{
  "nbformat": 4,
  "nbformat_minor": 0,
  "metadata": {
    "colab": {
      "provenance": [],
      "gpuType": "T4",
      "mount_file_id": "13ZoMDA9KguZ05RWd6weaWHAsdiNpt3TJ",
      "authorship_tag": "ABX9TyOD05WUrIGuSjEKnw3U2eXF",
      "include_colab_link": true
    },
    "kernelspec": {
      "name": "python3",
      "display_name": "Python 3"
    },
    "language_info": {
      "name": "python"
    },
    "accelerator": "GPU"
  },
  "cells": [
    {
      "cell_type": "markdown",
      "metadata": {
        "id": "view-in-github",
        "colab_type": "text"
      },
      "source": [
        "<a href=\"https://colab.research.google.com/github/MBilal021/ATS-System/blob/main/Model_Final.ipynb\" target=\"_parent\"><img src=\"https://colab.research.google.com/assets/colab-badge.svg\" alt=\"Open In Colab\"/></a>"
      ]
    },
    {
      "cell_type": "code",
      "execution_count": 1,
      "metadata": {
        "id": "Y-3PHfkGnTkt"
      },
      "outputs": [],
      "source": [
        "import pandas as pd\n",
        "import numpy as np\n",
        "import re\n",
        "import torch\n",
        "from torch.utils.data import DataLoader, TensorDataset\n",
        "from transformers import BertTokenizer, BertForSequenceClassification, AdamW\n",
        "from sklearn.model_selection import train_test_split, StratifiedKFold, cross_val_score\n",
        "from sklearn.preprocessing import LabelEncoder\n",
        "from sklearn.metrics import accuracy_score, classification_report\n",
        "import pickle"
      ]
    },
    {
      "cell_type": "code",
      "source": [
        "# Check if GPU is available\n",
        "device = torch.device(\"cuda\" if torch.cuda.is_available() else \"cpu\")"
      ],
      "metadata": {
        "id": "aOrzpn4SnwFH"
      },
      "execution_count": 2,
      "outputs": []
    },
    {
      "cell_type": "code",
      "source": [
        "# Load dataset\n",
        "df = pd.read_csv('/content/drive/MyDrive/Colab Notebooks/ML/job.csv')\n",
        "print(f\"Dataset loaded successfully! Shape: {df.shape}\")"
      ],
      "metadata": {
        "colab": {
          "base_uri": "https://localhost:8080/"
        },
        "id": "sH8AN2BDn0XD",
        "outputId": "8b62125d-977b-470d-cb03-8a49c6735d51"
      },
      "execution_count": 3,
      "outputs": [
        {
          "output_type": "stream",
          "name": "stdout",
          "text": [
            "Dataset loaded successfully! Shape: (1615940, 23)\n"
          ]
        }
      ]
    },
    {
      "cell_type": "code",
      "source": [
        "# Handle missing values\n",
        "text_columns = ['Experience', 'Job Description', 'Qualifications', 'skills']\n",
        "df[text_columns] = df[text_columns].fillna('')"
      ],
      "metadata": {
        "id": "P1LSNA_VoI-6"
      },
      "execution_count": 4,
      "outputs": []
    },
    {
      "cell_type": "code",
      "source": [
        "def preprocess_text(text):\n",
        "    text = re.sub(r'[^a-zA-Z\\s]', '', text.lower())  # Remove special characters\n",
        "    return text.strip()\n"
      ],
      "metadata": {
        "id": "Hon6kCNkoL0Y"
      },
      "execution_count": 5,
      "outputs": []
    },
    {
      "cell_type": "code",
      "source": [
        "# Preprocess text columns\n",
        "df['combined_text'] = df[text_columns].apply(lambda x: ' '.join(x), axis=1)\n",
        "df['combined_text'] = df['combined_text'].apply(preprocess_text)\n"
      ],
      "metadata": {
        "id": "aJBbfaS4oRwT"
      },
      "execution_count": 6,
      "outputs": []
    },
    {
      "cell_type": "code",
      "source": [
        "# Encode labels\n",
        "le = LabelEncoder()\n",
        "df['Role_encoded'] = le.fit_transform(df['Role'])\n",
        "y = df['Role_encoded']"
      ],
      "metadata": {
        "id": "GPbfzGpGoXhA"
      },
      "execution_count": 7,
      "outputs": []
    },
    {
      "cell_type": "code",
      "source": [
        "# Load pre-trained BERT tokenizer\n",
        "tokenizer = BertTokenizer.from_pretrained('bert-base-uncased')\n",
        "\n",
        "def encode_texts(texts, max_length=512):\n",
        "    return tokenizer(\n",
        "        texts.tolist(),\n",
        "        padding='max_length',\n",
        "        truncation=True,\n",
        "        max_length=max_length,\n",
        "        return_tensors='pt'\n",
        "    )"
      ],
      "metadata": {
        "id": "Zc71lN3WoiVb"
      },
      "execution_count": 9,
      "outputs": []
    },
    {
      "cell_type": "code",
      "source": [
        "# Split data into train and test sets\n",
        "X_train, X_test, y_train, y_test = train_test_split(\n",
        "    df['combined_text'], y, test_size=0.2, random_state=42, stratify=y)"
      ],
      "metadata": {
        "id": "xuu-UbYwojZi"
      },
      "execution_count": 10,
      "outputs": []
    },
    {
      "cell_type": "code",
      "source": [
        "# Tokenize text data\n",
        "X_train_enc = encode_texts(X_train)\n",
        "X_test_enc = encode_texts(X_test)"
      ],
      "metadata": {
        "id": "bAvhYiGAoozF"
      },
      "execution_count": null,
      "outputs": []
    },
    {
      "cell_type": "code",
      "source": [
        "# Convert labels to tensors\n",
        "y_train_tensor = torch.tensor(y_train.tolist())\n",
        "y_test_tensor = torch.tensor(y_test.tolist())"
      ],
      "metadata": {
        "id": "5yKdndjZo0xR"
      },
      "execution_count": null,
      "outputs": []
    },
    {
      "cell_type": "code",
      "source": [
        "# Create DataLoader for batch training\n",
        "train_data = TensorDataset(X_train_enc['input_ids'], X_train_enc['attention_mask'], y_train_tensor)\n",
        "train_loader = DataLoader(train_data, batch_size=16, shuffle=True)\n",
        "\n",
        "test_data = TensorDataset(X_test_enc['input_ids'], X_test_enc['attention_mask'], y_test_tensor)\n",
        "test_loader = DataLoader(test_data, batch_size=16, shuffle=False)"
      ],
      "metadata": {
        "id": "wuU6icAeo3k2"
      },
      "execution_count": null,
      "outputs": []
    },
    {
      "cell_type": "code",
      "source": [
        "# Load BERT model for classification\n",
        "model = BertForSequenceClassification.from_pretrained(\n",
        "    'bert-base-uncased',\n",
        "    num_labels=len(np.unique(y))\n",
        ")\n",
        "model.to(device)"
      ],
      "metadata": {
        "id": "1zqcKMCLo6PE"
      },
      "execution_count": null,
      "outputs": []
    },
    {
      "cell_type": "code",
      "source": [
        "# Define optimizer and loss function\n",
        "optimizer = AdamW(model.parameters(), lr=2e-5)\n",
        "loss_fn = torch.nn.CrossEntropyLoss()"
      ],
      "metadata": {
        "id": "WZ_zArwno8xZ"
      },
      "execution_count": null,
      "outputs": []
    },
    {
      "cell_type": "code",
      "source": [
        "# Cross-validation setup\n",
        "skf = StratifiedKFold(n_splits=5, shuffle=True, random_state=42)\n",
        "cross_val_scores = []"
      ],
      "metadata": {
        "id": "nYtP1nPGo_tD"
      },
      "execution_count": null,
      "outputs": []
    },
    {
      "cell_type": "code",
      "source": [
        "# Training loop with cross-validation\n",
        "epochs = 3\n",
        "for fold, (train_idx, val_idx) in enumerate(skf.split(X_train, y_train)):\n",
        "    print(f\"Fold {fold+1}:\")\n",
        "    train_subset = TensorDataset(X_train_enc['input_ids'][train_idx], X_train_enc['attention_mask'][train_idx], y_train_tensor[train_idx])\n",
        "    val_subset = TensorDataset(X_train_enc['input_ids'][val_idx], X_train_enc['attention_mask'][val_idx], y_train_tensor[val_idx])\n",
        "\n",
        "    train_loader = DataLoader(train_subset, batch_size=16, shuffle=True)\n",
        "    val_loader = DataLoader(val_subset, batch_size=16, shuffle=False)\n",
        "\n",
        "    for epoch in range(epochs):\n",
        "        model.train()\n",
        "        total_loss = 0\n",
        "        for batch in train_loader:\n",
        "            inputs, masks, labels = [b.to(device) for b in batch]\n",
        "            optimizer.zero_grad()\n",
        "            outputs = model(input_ids=inputs, attention_mask=masks).logits\n",
        "            loss = loss_fn(outputs, labels)\n",
        "            loss.backward()\n",
        "            optimizer.step()\n",
        "            total_loss += loss.item()\n",
        "        print(f\"Epoch {epoch+1}, Loss: {total_loss/len(train_loader):.4f}\")"
      ],
      "metadata": {
        "id": "6Pw92zu1pEBz"
      },
      "execution_count": null,
      "outputs": []
    },
    {
      "cell_type": "code",
      "source": [
        "    # Validation accuracy\n",
        "    model.eval()\n",
        "    predictions, true_labels = [], []\n",
        "    with torch.no_grad():\n",
        "        for batch in val_loader:\n",
        "            inputs, masks, labels = [b.to(device) for b in batch]\n",
        "            outputs = model(input_ids=inputs, attention_mask=masks).logits\n",
        "            preds = torch.argmax(outputs, dim=1).cpu().numpy()\n",
        "            predictions.extend(preds)\n",
        "            true_labels.extend(labels.cpu().numpy())\n",
        "\n",
        "    accuracy = accuracy_score(true_labels, predictions)\n",
        "    cross_val_scores.append(accuracy)\n",
        "    print(f\"Validation Accuracy for Fold {fold+1}: {accuracy:.4f}\")\n",
        "\n",
        "print(f\"Mean Cross-Validation Accuracy: {np.mean(cross_val_scores):.4f}\")"
      ],
      "metadata": {
        "id": "b6Csiu4ZpTtm"
      },
      "execution_count": null,
      "outputs": []
    },
    {
      "cell_type": "code",
      "source": [
        "# Final model evaluation\n",
        "model.eval()\n",
        "predictions, true_labels = [], []\n",
        "with torch.no_grad():\n",
        "    for batch in test_loader:\n",
        "        inputs, masks, labels = [b.to(device) for b in batch]\n",
        "        outputs = model(input_ids=inputs, attention_mask=masks).logits\n",
        "        preds = torch.argmax(outputs, dim=1).cpu().numpy()\n",
        "        predictions.extend(preds)\n",
        "        true_labels.extend(labels.cpu().numpy())"
      ],
      "metadata": {
        "id": "1C7daTnJqOuB"
      },
      "execution_count": null,
      "outputs": []
    },
    {
      "cell_type": "code",
      "source": [
        "# Print evaluation metrics\n",
        "accuracy = accuracy_score(true_labels, predictions)\n",
        "print(f\"Final Test Accuracy: {accuracy:.4f}\")\n",
        "print(classification_report(true_labels, predictions))"
      ],
      "metadata": {
        "id": "heQ8sm28qSiE"
      },
      "execution_count": null,
      "outputs": []
    },
    {
      "cell_type": "code",
      "source": [
        "# Save model and tokenizer\n",
        "model.save_pretrained(\"ats_bert_model\")\n",
        "tokenizer.save_pretrained(\"ats_bert_tokenizer\")\n",
        "\n",
        "with open('label_encoder.pkl', 'wb') as f:\n",
        "    pickle.dump(le, f)\n",
        "\n",
        "print(\"BERT Model and Tokenizer saved successfully!\")"
      ],
      "metadata": {
        "id": "fgsRX3XGqWes"
      },
      "execution_count": null,
      "outputs": []
    }
  ]
}